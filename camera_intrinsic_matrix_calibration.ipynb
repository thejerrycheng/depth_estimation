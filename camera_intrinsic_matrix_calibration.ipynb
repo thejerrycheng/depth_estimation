{
 "cells": [
  {
   "cell_type": "markdown",
   "metadata": {},
   "source": [
    "# Camera Instrinsic Matrix Calibration Process:"
   ]
  },
  {
   "cell_type": "code",
   "execution_count": 1,
   "metadata": {},
   "outputs": [
    {
     "ename": "NameError",
     "evalue": "name 'gray' is not defined",
     "output_type": "error",
     "traceback": [
      "\u001b[0;31m---------------------------------------------------------------------------\u001b[0m",
      "\u001b[0;31mNameError\u001b[0m                                 Traceback (most recent call last)",
      "\u001b[1;32m/Users/jerrycheng/Desktop/AER1515/Project/source_code/camera_intrinsic_matrix_calibration.ipynb Cell 2\u001b[0m line \u001b[0;36m3\n\u001b[1;32m     <a href='vscode-notebook-cell:/Users/jerrycheng/Desktop/AER1515/Project/source_code/camera_intrinsic_matrix_calibration.ipynb#W0sZmlsZQ%3D%3D?line=29'>30</a>\u001b[0m         imgpoints\u001b[39m.\u001b[39mappend(corners)\n\u001b[1;32m     <a href='vscode-notebook-cell:/Users/jerrycheng/Desktop/AER1515/Project/source_code/camera_intrinsic_matrix_calibration.ipynb#W0sZmlsZQ%3D%3D?line=31'>32</a>\u001b[0m \u001b[39m# Calibrate camera\u001b[39;00m\n\u001b[0;32m---> <a href='vscode-notebook-cell:/Users/jerrycheng/Desktop/AER1515/Project/source_code/camera_intrinsic_matrix_calibration.ipynb#W0sZmlsZQ%3D%3D?line=32'>33</a>\u001b[0m ret, mtx, dist, rvecs, tvecs \u001b[39m=\u001b[39m cv2\u001b[39m.\u001b[39mcalibrateCamera(objpoints, imgpoints, gray\u001b[39m.\u001b[39mshape[::\u001b[39m-\u001b[39m\u001b[39m1\u001b[39m], \u001b[39mNone\u001b[39;00m, \u001b[39mNone\u001b[39;00m)\n\u001b[1;32m     <a href='vscode-notebook-cell:/Users/jerrycheng/Desktop/AER1515/Project/source_code/camera_intrinsic_matrix_calibration.ipynb#W0sZmlsZQ%3D%3D?line=34'>35</a>\u001b[0m \u001b[39mprint\u001b[39m(\u001b[39m\"\u001b[39m\u001b[39mCamera Matrix (Intrinsic Parameters): \u001b[39m\u001b[39m\\n\u001b[39;00m\u001b[39m\"\u001b[39m, mtx)\n\u001b[1;32m     <a href='vscode-notebook-cell:/Users/jerrycheng/Desktop/AER1515/Project/source_code/camera_intrinsic_matrix_calibration.ipynb#W0sZmlsZQ%3D%3D?line=36'>37</a>\u001b[0m \u001b[39m# Optionally, you can save the camera matrix and distortion coefficients for later use.\u001b[39;00m\n",
      "\u001b[0;31mNameError\u001b[0m: name 'gray' is not defined"
     ]
    }
   ],
   "source": [
    "import cv2\n",
    "import numpy as np\n",
    "import glob\n",
    "\n",
    "# Define the dimensions of the checkerboard\n",
    "CHECKERBOARD = (6,9)  # Example: 6x9 grid\n",
    "CHECKERBOARD_SIZE = 25  # Size of a checkerboard square (e.g., 25mm)\n",
    "\n",
    "# Arrays to store object points and image points from all the images\n",
    "objpoints = []  # 3D point in real world space\n",
    "imgpoints = []  # 2D points in image plane\n",
    "\n",
    "# Prepare grid and points to show\n",
    "objp = np.zeros((1, CHECKERBOARD[0] * CHECKERBOARD[1], 3), np.float32)\n",
    "objp[0,:,:2] = np.mgrid[0:CHECKERBOARD[0], 0:CHECKERBOARD[1]].T.reshape(-1, 2) * CHECKERBOARD_SIZE\n",
    "\n",
    "# Read images\n",
    "images = glob.glob('path_to_images/*.jpg')  # Replace 'path_to_images' with your directory\n",
    "\n",
    "for fname in images:\n",
    "    img = cv2.imread(fname)\n",
    "    gray = cv2.cvtColor(img, cv2.COLOR_BGR2GRAY)\n",
    "\n",
    "    # Find the chessboard corners\n",
    "    ret, corners = cv2.findChessboardCorners(gray, CHECKERBOARD, cv2.CALIB_CB_ADAPTIVE_THRESH + cv2.CALIB_CB_FAST_CHECK + cv2.CALIB_CB_NORMALIZE_IMAGE)\n",
    "\n",
    "    # If found, add object points, image points\n",
    "    if ret:\n",
    "        objpoints.append(objp)\n",
    "        imgpoints.append(corners)\n",
    "\n",
    "# Calibrate camera\n",
    "ret, mtx, dist, rvecs, tvecs = cv2.calibrateCamera(objpoints, imgpoints, gray.shape[::-1], None, None)\n",
    "\n",
    "print(\"Camera Matrix (Intrinsic Parameters): \\n\", mtx)\n",
    "\n",
    "# Optionally, you can save the camera matrix and distortion coefficients for later use.\n",
    "np.save(\"camera_matrix.npy\", mtx)\n",
    "np.save(\"dist_coeff.npy\", dist)\n"
   ]
  },
  {
   "cell_type": "markdown",
   "metadata": {},
   "source": [
    "# Reference Camera Matrix from others -- on iPhone X "
   ]
  },
  {
   "cell_type": "code",
   "execution_count": null,
   "metadata": {},
   "outputs": [],
   "source": [
    "# --- Calibrated using iPhone X at video mode with resolution @ 1920x1080 ---\n",
    "# K\n",
    "[[1.97547873e+03, 0.00000000e+00, 1.06077279e+03],\n",
    " [0.00000000e+00, 2.05341424e+03, 5.13500761e+02],\n",
    " [0.00000000e+00, 0.00000000e+00, 1.00000000e+00]]\n",
    "# dist\n",
    "[ 0.37367123, -1.29505304, -0.01482113,  0.01368264,  0.92461805]\n",
    "\n",
    "# --- Calibrated using iPhone X at photo mode with resolution @ 3024x4032 ---\n",
    "# K\n",
    "[[3.20512987e+03, 0.00000000e+00, 1.99443897e+03],\n",
    " [0.00000000e+00, 3.17391061e+03, 1.41309060e+03],\n",
    " [0.00000000e+00, 0.00000000e+00, 1.00000000e+00]]\n",
    "# dist\n",
    "[4.189866e-01, -3.496832e+00, -1.239132e-02, -1.649367e-03, 1.055315e+01]"
   ]
  }
 ],
 "metadata": {
  "kernelspec": {
   "display_name": "base",
   "language": "python",
   "name": "python3"
  },
  "language_info": {
   "codemirror_mode": {
    "name": "ipython",
    "version": 3
   },
   "file_extension": ".py",
   "mimetype": "text/x-python",
   "name": "python",
   "nbconvert_exporter": "python",
   "pygments_lexer": "ipython3",
   "version": "3.11.5"
  }
 },
 "nbformat": 4,
 "nbformat_minor": 2
}
